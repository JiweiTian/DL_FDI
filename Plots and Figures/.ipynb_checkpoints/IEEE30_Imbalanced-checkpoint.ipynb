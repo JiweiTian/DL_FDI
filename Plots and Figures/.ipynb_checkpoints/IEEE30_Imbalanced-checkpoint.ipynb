{
 "cells": [
  {
   "cell_type": "code",
   "execution_count": 1,
   "metadata": {},
   "outputs": [],
   "source": [
    "import sys\n",
    "import time\n",
    "import os\n",
    "import numpy as np\n",
    "import matplotlib\n",
    "import matplotlib.pyplot as plt\n",
    "import pandas as pd\n",
    "from scipy.signal import savgol_filter"
   ]
  },
  {
   "cell_type": "code",
   "execution_count": 3,
   "metadata": {},
   "outputs": [],
   "source": [
    "DCT = pd.read_excel(\"Raw_Results/RESULTS_IEEE30_ClassifiersTest_Imbalanced_DCT.xlsx\")\n",
    "GNB = pd.read_excel(\"Raw_Results/RESULTS_IEEE30_ClassifiersTest_Imbalanced_GNB.xlsx\")\n",
    "KNN = pd.read_excel(\"Raw_Results/RESULTS_IEEE30_ClassifiersTest_Imbalanced_KNN.xlsx\")"
   ]
  },
  {
   "cell_type": "code",
   "execution_count": 4,
   "metadata": {},
   "outputs": [
    {
     "name": "stdout",
     "output_type": "stream",
     "text": [
      "[0.1 0.2 0.3 0.4 0.5 0.6 0.7 0.8 0.9]\n"
     ]
    }
   ],
   "source": [
    "imbalanceRange = np.arange(0.1,1.0,0.1)\n",
    "print(imbalanceRange)"
   ]
  },
  {
   "cell_type": "code",
   "execution_count": 10,
   "metadata": {},
   "outputs": [],
   "source": [
    "DCT = []\n",
    "GNB = []\n",
    "KNN = []\n",
    "MM = []\n",
    "\n",
    "for i in imbalanceRange:\n",
    "    DCT.append( pd.read_excel(\"Raw_Results/RESULTS_IEEE30_ClassifiersTest_Imbalanced_DCT.xlsx\", sheet_name = \"Imb {}\".format(i)) )\n",
    "    GNB.append( pd.read_excel(\"Raw_Results/RESULTS_IEEE30_ClassifiersTest_Imbalanced_GNB.xlsx\", sheet_name = \"Imb {}\".format(i)) )\n",
    "    KNN.append( pd.read_excel(\"Raw_Results/RESULTS_IEEE30_ClassifiersTest_Imbalanced_KNN.xlsx\", sheet_name = \"Imb {}\".format(i)) )\n",
    "    MM.append ( pd.read_excel(\"Raw_Results/RESULTS_IEEE30_MainModels_Imbalanced_100Epochs.xlsx\", sheet_name = \"Imb {}\".format(i)) )"
   ]
  },
  {
   "cell_type": "code",
   "execution_count": 11,
   "metadata": {},
   "outputs": [
    {
     "data": {
      "text/html": [
       "<div>\n",
       "<style scoped>\n",
       "    .dataframe tbody tr th:only-of-type {\n",
       "        vertical-align: middle;\n",
       "    }\n",
       "\n",
       "    .dataframe tbody tr th {\n",
       "        vertical-align: top;\n",
       "    }\n",
       "\n",
       "    .dataframe thead th {\n",
       "        text-align: right;\n",
       "    }\n",
       "</style>\n",
       "<table border=\"1\" class=\"dataframe\">\n",
       "  <thead>\n",
       "    <tr style=\"text-align: right;\">\n",
       "      <th></th>\n",
       "      <th>Unnamed: 0</th>\n",
       "      <th>Sparsity</th>\n",
       "      <th>Accuracy</th>\n",
       "      <th>F1 score</th>\n",
       "      <th>Precision</th>\n",
       "      <th>Recall</th>\n",
       "      <th>False Positive Rate</th>\n",
       "    </tr>\n",
       "  </thead>\n",
       "  <tbody>\n",
       "    <tr>\n",
       "      <td>0</td>\n",
       "      <td>0</td>\n",
       "      <td>0.1</td>\n",
       "      <td>0.7485</td>\n",
       "      <td>0.776742</td>\n",
       "      <td>0.698324</td>\n",
       "      <td>0.875</td>\n",
       "      <td>0.378</td>\n",
       "    </tr>\n",
       "    <tr>\n",
       "      <td>1</td>\n",
       "      <td>1</td>\n",
       "      <td>0.2</td>\n",
       "      <td>0.9515</td>\n",
       "      <td>0.949767</td>\n",
       "      <td>0.984962</td>\n",
       "      <td>0.917</td>\n",
       "      <td>0.014</td>\n",
       "    </tr>\n",
       "    <tr>\n",
       "      <td>2</td>\n",
       "      <td>2</td>\n",
       "      <td>0.3</td>\n",
       "      <td>0.5000</td>\n",
       "      <td>0.665552</td>\n",
       "      <td>0.500000</td>\n",
       "      <td>0.995</td>\n",
       "      <td>0.995</td>\n",
       "    </tr>\n",
       "    <tr>\n",
       "      <td>3</td>\n",
       "      <td>3</td>\n",
       "      <td>0.4</td>\n",
       "      <td>0.4995</td>\n",
       "      <td>0.665329</td>\n",
       "      <td>0.499749</td>\n",
       "      <td>0.995</td>\n",
       "      <td>0.996</td>\n",
       "    </tr>\n",
       "    <tr>\n",
       "      <td>4</td>\n",
       "      <td>4</td>\n",
       "      <td>0.5</td>\n",
       "      <td>0.5820</td>\n",
       "      <td>0.702067</td>\n",
       "      <td>0.545404</td>\n",
       "      <td>0.985</td>\n",
       "      <td>0.821</td>\n",
       "    </tr>\n",
       "  </tbody>\n",
       "</table>\n",
       "</div>"
      ],
      "text/plain": [
       "   Unnamed: 0  Sparsity  Accuracy  F1 score  Precision  Recall  \\\n",
       "0           0       0.1    0.7485  0.776742   0.698324   0.875   \n",
       "1           1       0.2    0.9515  0.949767   0.984962   0.917   \n",
       "2           2       0.3    0.5000  0.665552   0.500000   0.995   \n",
       "3           3       0.4    0.4995  0.665329   0.499749   0.995   \n",
       "4           4       0.5    0.5820  0.702067   0.545404   0.985   \n",
       "\n",
       "   False Positive Rate  \n",
       "0                0.378  \n",
       "1                0.014  \n",
       "2                0.995  \n",
       "3                0.996  \n",
       "4                0.821  "
      ]
     },
     "execution_count": 11,
     "metadata": {},
     "output_type": "execute_result"
    }
   ],
   "source": [
    "DCT[0].head()"
   ]
  },
  {
   "cell_type": "code",
   "execution_count": 16,
   "metadata": {},
   "outputs": [
    {
     "data": {
      "text/plain": [
       "0    0.7485\n",
       "1    0.9515\n",
       "2    0.5000\n",
       "3    0.4995\n",
       "4    0.5820\n",
       "5    0.9825\n",
       "6    0.9820\n",
       "7    0.9725\n",
       "8    0.8105\n",
       "9    0.9720\n",
       "Name: Accuracy, dtype: float64"
      ]
     },
     "execution_count": 16,
     "metadata": {},
     "output_type": "execute_result"
    }
   ],
   "source": [
    "d1 = DCT[0]\n",
    "d1['Accuracy']"
   ]
  },
  {
   "cell_type": "code",
   "execution_count": 22,
   "metadata": {},
   "outputs": [],
   "source": [
    "dct_acc = []\n",
    "gnb_acc = []\n",
    "knn_acc = []\n",
    "ann_acc = []\n",
    "gdnn_acc = []\n",
    "\n",
    "for i in range(9):\n",
    "    dct = DCT[i]\n",
    "    gnb = GNB[i]\n",
    "    knn = KNN[i]\n",
    "    ann = MM[i]\n",
    "    \n",
    "    dct_acc.append( np.mean(dct['Accuracy']) )\n",
    "    gnb_acc.append( np.mean(gnb['Accuracy']) )\n",
    "    knn_acc.append( np.mean(knn['Accuracy']) )\n",
    "    ann_acc.append( np.mean(ann['Model 1'])  ) \n",
    "    gdnn_acc.append( np.mean(ann['Model 7'])  )"
   ]
  },
  {
   "cell_type": "code",
   "execution_count": 23,
   "metadata": {},
   "outputs": [
    {
     "name": "stdout",
     "output_type": "stream",
     "text": [
      "[0.8001000000000001, 0.7923, 0.8006, 0.80335, 0.78, 0.7243499999999999, 0.6685, 0.67655, 0.6409]\n",
      "[0.8972000000000001, 0.91295, 0.9079, 0.906, 0.89955, 0.8930999999999999, 0.8855500000000001, 0.8805999999999999, 0.8756499999999999]\n",
      "[0.5, 0.5, 0.5, 0.5001, 0.50035, 0.5014000000000001, 0.5044, 0.5089499999999999, 0.5138499999999999]\n",
      "[0.5, 0.5807999968528748, 0.851199996471405, 0.8960500001907349, 0.9095499992370606, 0.8857000052928925, 0.9351499915122986, 0.9369499921798706, 0.9375999987125396]\n",
      "[0.7971500098705292, 0.852999997138977, 0.9343499898910522, 0.9440999984741211, 0.9673499882221221, 0.9539000034332276, 0.9544999957084656, 0.9686999917030334, 0.9480499982833862]\n"
     ]
    }
   ],
   "source": [
    "print(dct_acc)\n",
    "print(gnb_acc)\n",
    "print(knn_acc)\n",
    "print(ann_acc)\n",
    "print(gdnn_acc)"
   ]
  },
  {
   "cell_type": "code",
   "execution_count": null,
   "metadata": {},
   "outputs": [],
   "source": []
  }
 ],
 "metadata": {
  "kernelspec": {
   "display_name": "Python 3",
   "language": "python",
   "name": "python3"
  },
  "language_info": {
   "codemirror_mode": {
    "name": "ipython",
    "version": 3
   },
   "file_extension": ".py",
   "mimetype": "text/x-python",
   "name": "python",
   "nbconvert_exporter": "python",
   "pygments_lexer": "ipython3",
   "version": "3.6.5"
  }
 },
 "nbformat": 4,
 "nbformat_minor": 2
}
