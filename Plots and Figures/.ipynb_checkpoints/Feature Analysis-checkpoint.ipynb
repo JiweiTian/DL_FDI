{
 "cells": [
  {
   "cell_type": "code",
   "execution_count": 1,
   "metadata": {},
   "outputs": [],
   "source": [
    "import sys\n",
    "import time\n",
    "import os\n",
    "import numpy as np\n",
    "import matplotlib\n",
    "import matplotlib.pyplot as plt\n",
    "import pandas as pd"
   ]
  },
  {
   "cell_type": "code",
   "execution_count": 4,
   "metadata": {},
   "outputs": [],
   "source": [
    "data = pd.read_csv(\"Raw_Results/IEEE30_IGratio.csv\")"
   ]
  },
  {
   "cell_type": "code",
   "execution_count": 5,
   "metadata": {},
   "outputs": [
    {
     "data": {
      "text/html": [
       "<div>\n",
       "<style scoped>\n",
       "    .dataframe tbody tr th:only-of-type {\n",
       "        vertical-align: middle;\n",
       "    }\n",
       "\n",
       "    .dataframe tbody tr th {\n",
       "        vertical-align: top;\n",
       "    }\n",
       "\n",
       "    .dataframe thead th {\n",
       "        text-align: right;\n",
       "    }\n",
       "</style>\n",
       "<table border=\"1\" class=\"dataframe\">\n",
       "  <thead>\n",
       "    <tr style=\"text-align: right;\">\n",
       "      <th></th>\n",
       "      <th>0</th>\n",
       "    </tr>\n",
       "  </thead>\n",
       "  <tbody>\n",
       "    <tr>\n",
       "      <td>0</td>\n",
       "      <td>0.059418</td>\n",
       "    </tr>\n",
       "    <tr>\n",
       "      <td>1</td>\n",
       "      <td>0.062026</td>\n",
       "    </tr>\n",
       "    <tr>\n",
       "      <td>2</td>\n",
       "      <td>0.061975</td>\n",
       "    </tr>\n",
       "    <tr>\n",
       "      <td>3</td>\n",
       "      <td>0.062089</td>\n",
       "    </tr>\n",
       "    <tr>\n",
       "      <td>4</td>\n",
       "      <td>0.062508</td>\n",
       "    </tr>\n",
       "  </tbody>\n",
       "</table>\n",
       "</div>"
      ],
      "text/plain": [
       "          0\n",
       "0  0.059418\n",
       "1  0.062026\n",
       "2  0.061975\n",
       "3  0.062089\n",
       "4  0.062508"
      ]
     },
     "execution_count": 5,
     "metadata": {},
     "output_type": "execute_result"
    }
   ],
   "source": [
    "data.head()"
   ]
  },
  {
   "cell_type": "code",
   "execution_count": 7,
   "metadata": {},
   "outputs": [
    {
     "name": "stdout",
     "output_type": "stream",
     "text": [
      "[0.05941755 0.06202552 0.06197533 0.06208882 0.06250843 0.06212548\n",
      " 0.06209757 0.06241079 0.06230574 0.06240962 0.06223402 0.06217953\n",
      " 0.06296079 0.06236376 0.06218518 0.06308107 0.06232609 0.06218185\n",
      " 0.06242119 0.06235631 0.06253197 0.06256146 0.06237366 0.06266842\n",
      " 0.06229886 0.06240552 0.06243053 0.0624632  0.06245053 0.06237472\n",
      " 0.06234101 0.06254052 0.06246602 0.06233007 0.06244639 0.06227526\n",
      " 0.06248951 0.06236142 0.06250152 0.06237554 0.06222966 0.05929052\n",
      " 0.06199475 0.06223079 0.06214065 0.06246291 0.0621531  0.06234878\n",
      " 0.06244743 0.06248762 0.062159   0.06227365 0.06208273 0.06298533\n",
      " 0.06245539 0.0623114  0.06314124 0.06242095 0.06209337 0.0624163\n",
      " 0.06234201 0.06233679 0.06228438 0.0622984  0.06239413 0.06245533\n",
      " 0.06240885 0.0622153  0.06217379 0.06239176 0.06239059 0.06243544\n",
      " 0.06244305 0.06242462 0.06271274 0.06249381 0.06220175 0.06244888\n",
      " 0.06254965 0.06240069 0.06236302 0.06198314 0.05926115 0.06071799\n",
      " 0.06263098 0.06302204 0.06299289 0.06323418 0.06212899 0.06234946\n",
      " 0.06231587 0.06321918 0.06251935 0.06241877 0.06161197 0.06263208\n",
      " 0.06286909 0.06051893 0.06256763 0.06212707 0.06232815 0.06265988\n",
      " 0.06106295 0.06237864 0.06256276 0.06270295 0.06282974 0.06285086\n",
      " 0.06295378 0.06262    0.06298645 0.06347824 0.06271124 0.06299684\n",
      " 0.06285097 0.06287535 0.06297347 0.06260965 0.06229406 0.06230796\n",
      " 0.0619134  0.06208207 0.06225472 0.06224892 0.06282648 0.06222246\n",
      " 0.06320404 0.06298025 0.06306834 0.06082529 0.06275377 0.06215513\n",
      " 0.06363786 0.06247638 0.06245472 0.06173817 0.06148092 0.06264571\n",
      " 0.06287129 0.06277084 0.0628332  0.06254934 0.06257166 0.06066959\n",
      " 0.0625482  0.06299059 0.06294366 0.06293201 0.06258837 0.0627598\n",
      " 0.06261915 0.06266136 0.06274539 0.06233069 0.0627668  0.06298055\n",
      " 0.06280736 0.06325444 0.06249701 0.06197577 0.06219045 0.06205466\n",
      " 0.06498336 0.06259434 0.06237449 0.06160643 0.05962844 0.06318553\n",
      " 0.06248659 0.06271833]\n"
     ]
    }
   ],
   "source": [
    "ig = data[\"0\"].to_numpy()\n",
    "print(ig)"
   ]
  },
  {
   "cell_type": "code",
   "execution_count": 12,
   "metadata": {},
   "outputs": [
    {
     "name": "stdout",
     "output_type": "stream",
     "text": [
      "[  1   2   3   4   5   6   7   8   9  10  11  12  13  14  15  16  17  18\n",
      "  19  20  21  22  23  24  25  26  27  28  29  30  31  32  33  34  35  36\n",
      "  37  38  39  40  41  42  43  44  45  46  47  48  49  50  51  52  53  54\n",
      "  55  56  57  58  59  60  61  62  63  64  65  66  67  68  69  70  71  72\n",
      "  73  74  75  76  77  78  79  80  81  82  83  84  85  86  87  88  89  90\n",
      "  91  92  93  94  95  96  97  98  99 100 101 102 103 104 105 106 107 108\n",
      " 109 110 111 112 113 114 115 116 117 118 119 120 121 122 123 124 125 126\n",
      " 127 128 129 130 131 132 133 134 135 136 137 138 139 140 141 142 143 144\n",
      " 145 146 147 148 149 150 151 152 153 154 155 156 157 158 159 160 161 162\n",
      " 163 164 165 166 167 168 169 170]\n"
     ]
    }
   ],
   "source": [
    "features = range(len(ig))\n",
    "features = np.asarray(features)\n",
    "features = features + 1\n",
    "print(features)"
   ]
  },
  {
   "cell_type": "code",
   "execution_count": 13,
   "metadata": {},
   "outputs": [],
   "source": [
    "SMALL_SIZE = 14\n",
    "MEDIUM_SIZE = 18\n",
    "BIGGER_SIZE = 26\n",
    "\n",
    "plt.rc('font', size=SMALL_SIZE)          # controls default text sizes\n",
    "plt.rc('axes', titlesize=MEDIUM_SIZE)     # fontsize of the axes title\n",
    "plt.rc('axes', labelsize=MEDIUM_SIZE)    # fontsize of the x and y labels\n",
    "plt.rc('xtick', labelsize=MEDIUM_SIZE)    # fontsize of the tick labels\n",
    "plt.rc('ytick', labelsize=MEDIUM_SIZE)    # fontsize of the tick labels\n",
    "plt.rc('legend', fontsize=MEDIUM_SIZE)    # legend fontsize\n",
    "plt.rc('figure', titlesize=BIGGER_SIZE)  # fontsize of the figure title\n",
    "title_font = {'fontname':'Arial', 'size':'26', 'color':'black', 'weight':'bold',\n",
    "              'verticalalignment':'bottom'} # Bottom vertical alignment for more space"
   ]
  },
  {
   "cell_type": "code",
   "execution_count": null,
   "metadata": {},
   "outputs": [],
   "source": [
    "plt.figure(figsize=(16,10))\n",
    "plt.scatter(features,ig, color = 'b')\n",
    "plt.plot(features,ig, 'b-')\n",
    "\n",
    "\n",
    "plt.scatter(sparsity,knn_accuracy, color = 'm')\n",
    "plt.plot(sparsity,knn_accuracy, 'm-', label=\"KNN\")\n",
    "plt.ylabel('Accuracy')\n",
    "plt.xlabel('Sparsity (Ratio of measurements compromised)')\n",
    "plt.legend(loc=\"lower right\")\n",
    "plt.title('Accuracy of Machine Learning Models on IEEE 14-bus system', **title_font)\n",
    "# plt.axis([0.05,1.1,0.4,1])\n",
    "plt.grid()\n",
    "\n",
    "plt.savefig('IEEE30_igratio.pdf')\n",
    "plt.show()"
   ]
  }
 ],
 "metadata": {
  "kernelspec": {
   "display_name": "Python 3",
   "language": "python",
   "name": "python3"
  },
  "language_info": {
   "codemirror_mode": {
    "name": "ipython",
    "version": 3
   },
   "file_extension": ".py",
   "mimetype": "text/x-python",
   "name": "python",
   "nbconvert_exporter": "python",
   "pygments_lexer": "ipython3",
   "version": "3.6.5"
  }
 },
 "nbformat": 4,
 "nbformat_minor": 2
}
